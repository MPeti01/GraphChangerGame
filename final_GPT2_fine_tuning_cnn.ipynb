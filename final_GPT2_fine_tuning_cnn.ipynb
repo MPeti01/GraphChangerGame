{
  "nbformat": 4,
  "nbformat_minor": 0,
  "metadata": {
    "colab": {
      "name": "Copy of Copy of Copy of GPT2 fine-tuning.ipynb",
      "provenance": [],
      "collapsed_sections": [],
      "machine_shape": "hm",
      "include_colab_link": true
    },
    "kernelspec": {
      "name": "python3",
      "display_name": "Python 3"
    },
    "accelerator": "GPU"
  },
  "cells": [
    {
      "cell_type": "markdown",
      "metadata": {
        "id": "view-in-github",
        "colab_type": "text"
      },
      "source": [
        "<a href=\"https://colab.research.google.com/github/MPeti01/GraphChangerGame/blob/master/final_GPT2_fine_tuning_cnn.ipynb\" target=\"_parent\"><img src=\"https://colab.research.google.com/assets/colab-badge.svg\" alt=\"Open In Colab\"/></a>"
      ]
    },
    {
      "cell_type": "code",
      "metadata": {
        "id": "STwVSMyDu09g",
        "colab_type": "code",
        "outputId": "5d9dc894-50d8-4689-ce3b-dc3b3e6b5f40",
        "colab": {
          "base_uri": "https://localhost:8080/",
          "height": 356
        }
      },
      "source": [
        "!pip install gpt-2-simple"
      ],
      "execution_count": 2,
      "outputs": [
        {
          "output_type": "stream",
          "text": [
            "Collecting gpt-2-simple\n",
            "  Downloading https://files.pythonhosted.org/packages/6f/e4/a90add0c3328eed38a46c3ed137f2363b5d6a07bf13ee5d5d4d1e480b8c3/gpt_2_simple-0.7.1.tar.gz\n",
            "Requirement already satisfied: regex in /usr/local/lib/python3.6/dist-packages (from gpt-2-simple) (2019.12.20)\n",
            "Requirement already satisfied: requests in /usr/local/lib/python3.6/dist-packages (from gpt-2-simple) (2.21.0)\n",
            "Requirement already satisfied: tqdm in /usr/local/lib/python3.6/dist-packages (from gpt-2-simple) (4.28.1)\n",
            "Requirement already satisfied: numpy in /usr/local/lib/python3.6/dist-packages (from gpt-2-simple) (1.17.5)\n",
            "Collecting toposort\n",
            "  Downloading https://files.pythonhosted.org/packages/e9/8a/321cd8ea5f4a22a06e3ba30ef31ec33bea11a3443eeb1d89807640ee6ed4/toposort-1.5-py2.py3-none-any.whl\n",
            "Requirement already satisfied: certifi>=2017.4.17 in /usr/local/lib/python3.6/dist-packages (from requests->gpt-2-simple) (2019.11.28)\n",
            "Requirement already satisfied: idna<2.9,>=2.5 in /usr/local/lib/python3.6/dist-packages (from requests->gpt-2-simple) (2.8)\n",
            "Requirement already satisfied: urllib3<1.25,>=1.21.1 in /usr/local/lib/python3.6/dist-packages (from requests->gpt-2-simple) (1.24.3)\n",
            "Requirement already satisfied: chardet<3.1.0,>=3.0.2 in /usr/local/lib/python3.6/dist-packages (from requests->gpt-2-simple) (3.0.4)\n",
            "Building wheels for collected packages: gpt-2-simple\n",
            "  Building wheel for gpt-2-simple (setup.py) ... \u001b[?25l\u001b[?25hdone\n",
            "  Created wheel for gpt-2-simple: filename=gpt_2_simple-0.7.1-cp36-none-any.whl size=23580 sha256=5095a725c63336141d4a12382e5c237d34b1748ae17f114bc9e567fcc51f921b\n",
            "  Stored in directory: /root/.cache/pip/wheels/0c/f8/23/b53ce437504597edff76bf9c3b8de08ad716f74f6c6baaa91a\n",
            "Successfully built gpt-2-simple\n",
            "Installing collected packages: toposort, gpt-2-simple\n",
            "Successfully installed gpt-2-simple-0.7.1 toposort-1.5\n"
          ],
          "name": "stdout"
        }
      ]
    },
    {
      "cell_type": "code",
      "metadata": {
        "id": "Y7NzbkwHvump",
        "colab_type": "code",
        "colab": {}
      },
      "source": [
        "import gpt_2_simple as gpt2\n",
        "import os\n",
        "import requests\n",
        "import csv\n",
        "import sys\n",
        "\n",
        "csv.field_size_limit(sys.maxsize)\n",
        "\n",
        "model_name = \"774M\"\n",
        "if not os.path.isdir(os.path.join(\"models\", model_name)):\n",
        "\tprint(f\"Downloading {model_name} model...\")\n",
        "\tgpt2.download_gpt2(model_name=model_name)   # model is saved into current directory under /models/124M/\n",
        "\n",
        "\n",
        "file_name = \"cnn.csv\"\n",
        "if not os.path.isfile(file_name):\n",
        "    url = \"https://github.com/szentsas/ReBiasedNews/raw/master/pubs/cnn.txt\"\n",
        "    data = requests.get(url)\n",
        "\t\n",
        "    with open('tmp', 'w') as f:\n",
        "        f.write(data.text)\n",
        "\n",
        "    with open('tmp', 'r') as f:\n",
        "        with open(file_name, 'w') as out:\n",
        "            for line in f:\n",
        "                if len(line) < 100000:\n",
        "                    out.write('\"' + line[:-1] + '\"\\n')\n",
        "    \n"
      ],
      "execution_count": 0,
      "outputs": []
    },
    {
      "cell_type": "code",
      "metadata": {
        "id": "XjBooo7ElgF2",
        "colab_type": "code",
        "colab": {
          "base_uri": "https://localhost:8080/",
          "height": 1000
        },
        "outputId": "a696b020-b6cf-4686-9dff-eb2355e954dc"
      },
      "source": [
        "\n",
        "sess = gpt2.start_tf_sess()\n",
        "gpt2.finetune(sess,\n",
        "              file_name,\n",
        "              model_name=model_name,\n",
        "              steps=150)   # steps is max number of training steps\n",
        "sess = gpt2.reset_session(sess)\n",
        "gpt2.finetune(sess,\n",
        "              file_name,\n",
        "              model_name=model_name,\n",
        "              steps=50,\n",
        "\t\t\t\t\t\t\toverwrite=True,\n",
        "\t\t\t\t\t\t\tlearning_rate=0.00001)   # steps is max number of training steps\n",
        "gpt2.generate(sess)"
      ],
      "execution_count": 7,
      "outputs": [
        {
          "output_type": "stream",
          "text": [
            "WARNING:tensorflow:From /usr/local/lib/python3.6/dist-packages/gpt_2_simple/src/sample.py:17: where (from tensorflow.python.ops.array_ops) is deprecated and will be removed in a future version.\n",
            "Instructions for updating:\n",
            "Use tf.where in 2.0, which has the same broadcast rule as np.where\n",
            "WARNING:tensorflow:From /usr/local/lib/python3.6/dist-packages/gpt_2_simple/src/memory_saving_gradients.py:62: get_backward_walk_ops (from tensorflow.contrib.graph_editor.select) is deprecated and will be removed after 2019-06-06.\n",
            "Instructions for updating:\n",
            "Please use tensorflow.python.ops.op_selector.get_backward_walk_ops.\n",
            "Loading checkpoint models/774M/model.ckpt\n",
            "INFO:tensorflow:Restoring parameters from models/774M/model.ckpt\n"
          ],
          "name": "stdout"
        },
        {
          "output_type": "stream",
          "text": [
            "\r  0%|          | 0/1 [00:00<?, ?it/s]"
          ],
          "name": "stderr"
        },
        {
          "output_type": "stream",
          "text": [
            "Loading dataset...\n"
          ],
          "name": "stdout"
        },
        {
          "output_type": "stream",
          "text": [
            "\r100%|██████████| 1/1 [00:00<00:00,  1.17it/s]\n"
          ],
          "name": "stderr"
        },
        {
          "output_type": "stream",
          "text": [
            "dataset has 11211414 tokens\n",
            "Training...\n",
            "[1 | 15.14] loss=2.67 avg=2.67\n",
            "[2 | 16.86] loss=3.70 avg=3.19\n",
            "[3 | 18.58] loss=2.92 avg=3.10\n",
            "[4 | 20.30] loss=3.03 avg=3.08\n",
            "[5 | 22.03] loss=3.02 avg=3.07\n",
            "[6 | 23.76] loss=3.14 avg=3.08\n",
            "[7 | 25.48] loss=2.71 avg=3.03\n",
            "[8 | 27.20] loss=2.74 avg=2.99\n",
            "[9 | 28.93] loss=2.95 avg=2.99\n",
            "[10 | 30.65] loss=2.91 avg=2.98\n",
            "[11 | 32.38] loss=2.57 avg=2.94\n",
            "[12 | 34.10] loss=2.87 avg=2.93\n",
            "[13 | 35.83] loss=2.89 avg=2.93\n",
            "[14 | 37.55] loss=2.66 avg=2.91\n",
            "[15 | 39.27] loss=2.82 avg=2.90\n",
            "[16 | 40.99] loss=2.73 avg=2.89\n",
            "[17 | 42.73] loss=2.90 avg=2.89\n",
            "[18 | 44.46] loss=2.85 avg=2.89\n",
            "[19 | 46.18] loss=3.12 avg=2.90\n",
            "[20 | 47.90] loss=2.48 avg=2.88\n",
            "[21 | 49.62] loss=2.67 avg=2.87\n",
            "[22 | 51.34] loss=2.70 avg=2.86\n",
            "[23 | 53.07] loss=2.65 avg=2.85\n",
            "[24 | 54.79] loss=3.31 avg=2.87\n",
            "[25 | 56.51] loss=2.72 avg=2.86\n",
            "[26 | 58.23] loss=2.43 avg=2.84\n",
            "[27 | 59.96] loss=2.79 avg=2.84\n",
            "[28 | 61.68] loss=2.37 avg=2.82\n",
            "[29 | 63.40] loss=2.39 avg=2.81\n",
            "[30 | 65.12] loss=2.80 avg=2.81\n",
            "[31 | 66.84] loss=2.64 avg=2.80\n",
            "[32 | 68.56] loss=2.71 avg=2.80\n",
            "[33 | 70.29] loss=2.78 avg=2.80\n",
            "[34 | 72.01] loss=2.99 avg=2.80\n",
            "[35 | 73.73] loss=2.38 avg=2.79\n",
            "[36 | 75.45] loss=2.87 avg=2.79\n",
            "[37 | 77.17] loss=2.34 avg=2.78\n",
            "[38 | 78.90] loss=2.58 avg=2.77\n",
            "[39 | 80.62] loss=2.63 avg=2.77\n",
            "[40 | 82.34] loss=2.68 avg=2.76\n",
            "[41 | 84.06] loss=2.23 avg=2.75\n",
            "[42 | 85.78] loss=3.06 avg=2.76\n",
            "[43 | 87.51] loss=3.16 avg=2.77\n",
            "[44 | 89.23] loss=2.65 avg=2.76\n",
            "[45 | 90.95] loss=2.20 avg=2.75\n",
            "[46 | 92.67] loss=2.38 avg=2.74\n",
            "[47 | 94.40] loss=2.52 avg=2.73\n",
            "[48 | 96.12] loss=2.40 avg=2.72\n",
            "[49 | 97.84] loss=2.17 avg=2.71\n",
            "[50 | 99.56] loss=3.03 avg=2.72\n",
            "[51 | 101.28] loss=2.55 avg=2.71\n",
            "[52 | 103.01] loss=2.46 avg=2.71\n",
            "[53 | 104.73] loss=2.58 avg=2.70\n",
            "[54 | 106.45] loss=2.76 avg=2.71\n",
            "[55 | 108.17] loss=2.61 avg=2.70\n",
            "[56 | 109.89] loss=2.93 avg=2.71\n",
            "[57 | 111.61] loss=2.92 avg=2.71\n",
            "[58 | 113.33] loss=2.43 avg=2.71\n",
            "[59 | 115.06] loss=2.50 avg=2.70\n",
            "[60 | 116.78] loss=2.82 avg=2.70\n",
            "[61 | 118.50] loss=2.50 avg=2.70\n",
            "[62 | 120.22] loss=2.43 avg=2.69\n",
            "[63 | 121.94] loss=2.74 avg=2.70\n",
            "[64 | 123.66] loss=2.72 avg=2.70\n",
            "[65 | 125.40] loss=2.69 avg=2.70\n",
            "[66 | 127.12] loss=2.48 avg=2.69\n",
            "[67 | 128.84] loss=2.62 avg=2.69\n",
            "[68 | 130.56] loss=2.05 avg=2.68\n",
            "[69 | 132.28] loss=2.25 avg=2.67\n",
            "[70 | 134.00] loss=3.00 avg=2.68\n",
            "[71 | 135.73] loss=2.76 avg=2.68\n",
            "[72 | 137.45] loss=2.43 avg=2.67\n",
            "[73 | 139.17] loss=2.43 avg=2.67\n",
            "[74 | 140.90] loss=2.35 avg=2.66\n",
            "[75 | 142.62] loss=2.61 avg=2.66\n",
            "[76 | 144.34] loss=2.40 avg=2.66\n",
            "[77 | 146.06] loss=2.42 avg=2.65\n",
            "[78 | 147.78] loss=2.73 avg=2.65\n",
            "[79 | 149.51] loss=2.64 avg=2.65\n",
            "[80 | 151.24] loss=2.88 avg=2.66\n",
            "[81 | 152.96] loss=2.47 avg=2.65\n",
            "[82 | 154.68] loss=2.71 avg=2.65\n",
            "[83 | 156.40] loss=2.25 avg=2.65\n",
            "[84 | 158.12] loss=2.77 avg=2.65\n",
            "[85 | 159.85] loss=2.82 avg=2.65\n",
            "[86 | 161.57] loss=2.66 avg=2.65\n",
            "[87 | 163.30] loss=2.72 avg=2.65\n",
            "[88 | 165.02] loss=2.75 avg=2.65\n",
            "[89 | 166.75] loss=2.42 avg=2.65\n",
            "[90 | 168.47] loss=2.36 avg=2.65\n",
            "[91 | 170.19] loss=3.03 avg=2.65\n",
            "[92 | 171.91] loss=2.22 avg=2.65\n",
            "[93 | 173.64] loss=2.87 avg=2.65\n",
            "[94 | 175.36] loss=2.37 avg=2.64\n",
            "[95 | 177.08] loss=2.31 avg=2.64\n",
            "[96 | 178.80] loss=2.52 avg=2.64\n",
            "[97 | 180.52] loss=2.60 avg=2.64\n",
            "[98 | 182.25] loss=2.19 avg=2.63\n",
            "[99 | 183.97] loss=2.89 avg=2.63\n",
            "[100 | 185.69] loss=2.69 avg=2.63\n",
            "======== SAMPLE 1 ========\n",
            " they go through a process of trying to build a trust, and I think it will take some time,” she said. ”It's an issue we’re really working on as an organization.” In Washington, the administration has taken a broader view. After the   report, officials at the office of the Attorney General declined to comment Friday on whether the government plans to bring the report to the U. S. Congress or to make a federal response to it. The Justice Department could choose to respond to the report, or it could seek more time for a response. They have the option to wait until after the House voted Friday on a bill that would make federal law enforcement officials answer questions about the report, not to testify. The final response from the federal government may come during the legislative process, officials said. ”We think we will respond in a way that is reasonable,” Assistant Attorney General Stephen Boyd said Friday on Capitol Hill.  The FBI was at the forefront of the probe into Clinton’s email server, leading to the FBI finding last month that it was ”extremely careless.” FBI officials are working on another report about Clinton, this one on possible mishandling of classified information, and in June the bureau sent a letter to Congress recommending criminal charges. A spokesman for the Senate Judiciary Committee, which is investigating this issue, said Friday that the panel plans to vote on the recommendation. It’s not clear how long it’s expected to take or if the vote will be held until next Wednesday evening, at which point we’ll have an official response from the Justice Department. On Friday, White House Press Secretary Josh Earnest declined to respond to questions from reporters about the FBI investigation. His press secretary, Sean Spicer, said Friday there’s a lot more work to do. ”The final report doesn’t take place for a while,” he said. ”You can expect that a lot of the public discussion surrounding that final report will be, ’Did this administration disclose classified information that is an affront to the law?”\n",
            "<|endoftext|>\n",
            "<|startoftext|>Why is the Middle East so violent?\t<START>\t  A common complaint is that Iran is now in a military posture to ensure that its regional allies aren’t. That means a new round of violence between Iranian forces and the    that is Syria.   But it’s also another reason why the Middle East is so violent. If the Middle East goes   in another era, it’s a good bet that there’s a new wave of violence going into its future.  The region’s  are on a rise, even as some in the Gulf countries try to cool their rhetoric     by maintaining a certain level of tolerance to Iran’s regional activities while maintaining a more or less consistent level of hostility to the   (and some of its   allies).  Some of the countries in the gulf, Saudi Arabia, UAE and Egypt are starting to move in the direction of allowing and even encouraging the Iranian presence in their countries.   But other countries in the region aren’t, or aren’t quite sure if they’ll be able to. Egypt, which is embroiled in   battles with the Muslim Brotherhood, has done some relatively small things.  However, in the long term, it would be hard for Egypt to maintain relations with its regional rival Saudi Arabia. The current unrest is a reminder that the Middle East is at a different stage than the era of the Great Powers.   For most of human history, the Middle East was a   region. For most of human history, most people in the world lived in the coastal areas of the Middle East.  Many people lived in small villages; farms grew where they could grow food and clothing.   But the modern Middle East has more people living in cities; it has factories, shipping containers, malls and other     activities.   In the Middle East, the Islamic Republic of Iran is the       and as we all know, it happens to be one of the greatest     states in the Middle East.  What I’ve been saying is that the great powers were a great power.       They were the great powers of human history in the Middle East are today.        they have been replaced by new powers.       There are new     regional powers that are trying very hard to keep up to a modern standard of   .  .   including Iraq, Syria and some in the Persian Gulf.        So it’s going to be different in the future.        Now I’m not trying to convince you that you won\n",
            "\n",
            "[101 | 217.61] loss=2.43 avg=2.63\n",
            "[102 | 219.33] loss=2.40 avg=2.63\n",
            "[103 | 221.05] loss=2.43 avg=2.62\n",
            "[104 | 222.77] loss=2.51 avg=2.62\n",
            "[105 | 224.51] loss=2.39 avg=2.62\n",
            "[106 | 226.24] loss=2.78 avg=2.62\n",
            "[107 | 227.96] loss=2.50 avg=2.62\n",
            "[108 | 229.68] loss=2.42 avg=2.62\n",
            "[109 | 231.40] loss=2.83 avg=2.62\n",
            "[110 | 233.13] loss=2.67 avg=2.62\n",
            "[111 | 234.85] loss=2.19 avg=2.61\n",
            "[112 | 236.58] loss=2.50 avg=2.61\n",
            "[113 | 238.30] loss=2.40 avg=2.61\n",
            "[114 | 240.02] loss=2.36 avg=2.61\n",
            "[115 | 241.75] loss=2.37 avg=2.60\n",
            "[116 | 243.48] loss=3.08 avg=2.61\n",
            "[117 | 245.20] loss=2.66 avg=2.61\n",
            "[118 | 246.93] loss=2.49 avg=2.61\n",
            "[119 | 248.65] loss=2.45 avg=2.61\n",
            "[120 | 250.38] loss=2.33 avg=2.60\n",
            "[121 | 252.10] loss=2.18 avg=2.60\n",
            "[122 | 253.82] loss=2.60 avg=2.60\n",
            "[123 | 255.55] loss=2.28 avg=2.59\n",
            "[124 | 257.28] loss=2.97 avg=2.60\n",
            "[125 | 259.01] loss=2.55 avg=2.60\n",
            "[126 | 260.75] loss=2.28 avg=2.59\n",
            "[127 | 262.47] loss=2.58 avg=2.59\n",
            "[128 | 264.19] loss=2.65 avg=2.59\n",
            "[129 | 265.91] loss=2.61 avg=2.59\n",
            "[130 | 267.63] loss=2.72 avg=2.59\n",
            "[131 | 269.36] loss=2.20 avg=2.59\n",
            "[132 | 271.08] loss=2.50 avg=2.59\n",
            "[133 | 272.80] loss=2.76 avg=2.59\n",
            "[134 | 274.53] loss=2.91 avg=2.59\n",
            "[135 | 276.25] loss=2.88 avg=2.60\n",
            "[136 | 277.97] loss=2.27 avg=2.59\n",
            "[137 | 279.70] loss=2.45 avg=2.59\n",
            "[138 | 281.42] loss=2.48 avg=2.59\n",
            "[139 | 283.14] loss=2.54 avg=2.59\n",
            "[140 | 284.87] loss=2.57 avg=2.59\n",
            "[141 | 286.59] loss=2.29 avg=2.59\n",
            "[142 | 288.31] loss=2.65 avg=2.59\n",
            "[143 | 290.03] loss=2.59 avg=2.59\n",
            "[144 | 291.76] loss=2.65 avg=2.59\n",
            "[145 | 293.48] loss=2.16 avg=2.58\n",
            "[146 | 295.20] loss=2.76 avg=2.58\n",
            "[147 | 296.92] loss=2.44 avg=2.58\n",
            "[148 | 298.64] loss=2.66 avg=2.58\n",
            "[149 | 300.37] loss=2.44 avg=2.58\n",
            "[150 | 302.09] loss=2.47 avg=2.58\n",
            "Saving checkpoint/run1/model-150\n",
            "Loading checkpoint checkpoint/run1/model-150\n",
            "INFO:tensorflow:Restoring parameters from checkpoint/run1/model-150\n"
          ],
          "name": "stdout"
        },
        {
          "output_type": "stream",
          "text": [
            "\r  0%|          | 0/1 [00:00<?, ?it/s]"
          ],
          "name": "stderr"
        },
        {
          "output_type": "stream",
          "text": [
            "Loading dataset...\n"
          ],
          "name": "stdout"
        },
        {
          "output_type": "stream",
          "text": [
            "\r100%|██████████| 1/1 [00:00<00:00,  1.11it/s]\n"
          ],
          "name": "stderr"
        },
        {
          "output_type": "stream",
          "text": [
            "dataset has 11211414 tokens\n",
            "Training...\n",
            "Saving checkpoint/run1/model-150\n",
            "[151 | 14.13] loss=2.43 avg=2.43\n",
            "[152 | 15.85] loss=2.39 avg=2.41\n",
            "[153 | 17.57] loss=3.13 avg=2.65\n",
            "[154 | 19.30] loss=2.22 avg=2.54\n",
            "[155 | 21.02] loss=2.63 avg=2.56\n",
            "[156 | 22.74] loss=2.70 avg=2.58\n",
            "[157 | 24.47] loss=2.39 avg=2.55\n",
            "[158 | 26.19] loss=2.66 avg=2.57\n",
            "[159 | 27.91] loss=2.62 avg=2.57\n",
            "[160 | 29.63] loss=2.62 avg=2.58\n",
            "[161 | 31.36] loss=2.51 avg=2.57\n",
            "[162 | 33.08] loss=2.64 avg=2.58\n",
            "[163 | 34.80] loss=2.59 avg=2.58\n",
            "[164 | 36.52] loss=2.22 avg=2.55\n",
            "[165 | 38.25] loss=2.74 avg=2.56\n",
            "[166 | 39.97] loss=2.61 avg=2.57\n",
            "[167 | 41.69] loss=2.79 avg=2.58\n",
            "[168 | 43.42] loss=2.54 avg=2.58\n",
            "[169 | 45.14] loss=2.18 avg=2.56\n",
            "[170 | 46.86] loss=2.77 avg=2.57\n",
            "[171 | 48.59] loss=2.48 avg=2.56\n",
            "[172 | 50.31] loss=2.92 avg=2.58\n",
            "[173 | 52.04] loss=2.35 avg=2.57\n",
            "[174 | 53.76] loss=2.62 avg=2.57\n",
            "[175 | 55.48] loss=2.59 avg=2.57\n",
            "[176 | 57.20] loss=2.53 avg=2.57\n",
            "[177 | 58.94] loss=2.91 avg=2.59\n",
            "[178 | 60.66] loss=2.46 avg=2.58\n",
            "[179 | 62.38] loss=2.71 avg=2.59\n",
            "[180 | 64.11] loss=2.33 avg=2.58\n",
            "[181 | 65.84] loss=2.34 avg=2.57\n",
            "[182 | 67.57] loss=2.54 avg=2.57\n",
            "[183 | 69.30] loss=2.82 avg=2.57\n",
            "[184 | 71.02] loss=2.23 avg=2.56\n",
            "[185 | 72.75] loss=2.21 avg=2.55\n",
            "[186 | 74.48] loss=2.40 avg=2.55\n",
            "[187 | 76.20] loss=2.89 avg=2.56\n",
            "[188 | 77.92] loss=2.56 avg=2.56\n",
            "[189 | 79.65] loss=2.70 avg=2.56\n",
            "[190 | 81.37] loss=2.56 avg=2.56\n",
            "[191 | 83.09] loss=2.76 avg=2.57\n",
            "[192 | 84.81] loss=2.58 avg=2.57\n",
            "[193 | 86.54] loss=2.21 avg=2.56\n",
            "[194 | 88.26] loss=2.87 avg=2.57\n",
            "[195 | 89.99] loss=2.48 avg=2.56\n",
            "[196 | 91.71] loss=1.54 avg=2.54\n",
            "[197 | 93.43] loss=2.43 avg=2.53\n",
            "[198 | 95.16] loss=2.55 avg=2.53\n",
            "[199 | 96.88] loss=2.56 avg=2.53\n",
            "[200 | 98.60] loss=2.55 avg=2.54\n",
            "Saving checkpoint/run1/model-200\n",
            "WARNING:tensorflow:From /usr/local/lib/python3.6/dist-packages/tensorflow_core/python/training/saver.py:963: remove_checkpoint (from tensorflow.python.training.checkpoint_management) is deprecated and will be removed in a future version.\n",
            "Instructions for updating:\n",
            "Use standard file APIs to delete files with this prefix.\n",
            "A man who jumped from a crowded train in the city of Marseilles was killed by a police dog, Marseilles police said at a news conference on Monday. The incident took place Monday morning at around 10:45 a. m. local time (5:45 p. m. ET Monday in Paris). The train was traveling between two stations in the city, the police said. Bombing’s targets, He was killed in the northeastern outskirts of Marseilles. The train station, train station and the nearby railway station are all situated in the municipality of Susses, which is the site of the attack    which remains unclear since the train system has not yet been shut down. The attack was one of three explosions in Marseilles on Tuesday morning, police said.  Police said they were investigating whether the man ”was targeted by   or another person in a suicide bomber mode.” The French Interior Ministry said authorities had not yet made a decision on whether the train station or the main railway station would be shut. The train station may close for up to two months to investigate after the train station is searched, French Interior Minister Cazeneuve said. A large number of people have been evacuated from the train station as a precautionary measure, French Interior Ministry spokesman Cmdr. Cazeneuve said.  The train station is under lockdown, with the train automated train system on standby and the rail network in a ”standby mode.” Some overpasses are closed. The train system is on standby, but trains will not stop on the platforms until the investigation is complete, Cazeneuve said. On Monday evening, trains were running between stations at   and the railway station, police said. The train station is now closed and the station in Susses is closed as well, Cazeneuve said. It will be closed for two weeks, but will reopen on June 16, Cazeneuve said.   The train system was shut down after the train station was searched, in part because the train station has a bomb, Cazeneuve said.  ”Some trains have stopped running. We are still investigating why,” he said.  The train station remains closed and the station in Susses is closed as well, officials said. It will be closed for two weeks, but will reopen on June 16, Cazeneuve said.    Authorities do not know what caused the train station to be closed, Cazeneuve said.  ”I have no information on what caused this to be closed.”  The French Interior Ministry said the train station is in a safe zone and officers are not under threat.  ”It is safe in the station and the station in Susses.” ”There are no trains on the station. The station is evacuated,” said Richard Ferrand, a spokesman for the rail system’s security service the National Railway Police.  ”There is no danger,” Ferrand said. ”The train station is safe now.” Ferrand said that an alarm system was set off, and the alarm system is normal. ”The train station was already evacuated because of the alarm system,” he said.  The train station is a popular destination for tourists and residents. An attack last month, A suicide bomber killed 23 people and wounded more than 200 others in a suicide attack on a train in the French capital on July 14. A man was arrested in the attack, according to a French prosecutor, and is suspected of having been planning the attack for about four months. A man who was arrested in the blast, according to Ferrand, was a Moroccan national living in Marseilles.  The attack, which was carried out by two people, was the latest in a series of recent violent attacks    in southern France, including a stabbing spree in the southern town of Villeneuve-Louviere on June 20 and an attempt on a food warehouse in the northern town of Verviers on June 24. The following day, a truck attack on a pedestrian bridge in Nice, southern France, killed at least 84 people and wounded about 100 others.   The bus attack in Nice on July 14 killed one and injured several.  A police officer was killed in that attack.  The attack sparked a meeting in Nice between Prime Minister Manuel Valls and the city’s mayor, who ordered a halt to the city’s swimming season.  All schools in the province of   have been closed a week along with pupils’s schools, schools in the city’s suburbs and the regional office of the local police, according to Valls. Schools were reopened on Tuesday, as was the case with Paris schools, he said. Valls said the attacks, which he called ”a terrorist attack,” were the result of an ”insurrectionary attack” by radical Islamists who were ”supported\n"
          ],
          "name": "stdout"
        }
      ]
    },
    {
      "cell_type": "code",
      "metadata": {
        "id": "HmnuYrYD4cPT",
        "colab_type": "code",
        "outputId": "3f37d42f-749b-46f1-eae9-8fba1a482220",
        "colab": {
          "base_uri": "https://localhost:8080/",
          "height": 54
        }
      },
      "source": [
        "gpt2.generate(sess, prefix='Trump reveals new details of Soleimani strike to donors at Mar-a-Lago <START> President Trump recounted minute-by-minute details of the US strike that killed Iran\\'s top military commander during remarks to high-dollar Republican donors at his South Florida estate, according to audio obtained by CNN.')"
      ],
      "execution_count": 0,
      "outputs": [
        {
          "output_type": "stream",
          "text": [
            "Trump reveals new details of Soleimani strike to donors at Mar-a-Lago <START> President Trump recounted minute-by-minute details of the US strike that killed Iran's top military commander during remarks to high-dollar Republican donors at his South Florida estate, according to audio obtained by CNN.Trump also revealed details of the Pentagon strike in a lengthy memo, sending a clear message to lawmakers and lawmakers who have been more critical of the Trump administration than Trump himself. Trump claimed to have been briefed on the strike, but the White House didn't disclose the details until it was reported to the Senate. The Pentagon report came even as the New York Times reported that the same day that Tillerson was slated to meet with Trump for a meeting with his advisers, Tillerson had agreed to take part in the strike against Iran, the U. S. ambassador to the UN, said in an interview with the New York Times. Trump has been critical of the Obama administration for its decision to strike, calling it a \"painful blow to the people of Iran and to our allies.” Under the terms of the agreement the Americans will not target Iran, but will strike Iran with a strike that will be considered credible by the United Nations Security Council. The strike will force the   Iran to withdraw out of the country and the deal will be final, the White House said. Trump also called the strike a \"very sad day for the American people.” Tillerson, the U. S. ambassador to the UN, said in the interview that he will provide details of the strike at the end of his scheduled meeting with the State Department, but he declined to confirm the details of the strike. The State Department did not provide additional details.  In a separate statement, Tillerson stressed that he did not plan to announce the strike until the first meeting with Tillerson. The State Department did not release the details of the strike. Tillerson said he had not yet spoken to the White House about the strike and did not know when it would take place. Tillerson also stressed that he had not yet made an announcement about the strike. The State Department did not release the details of the strike. Tillerson said he was not aware of any discussions about the strike, because his department had not been briefed on it. Tillerson said he was not aware of any discussions about the strike. Tillerson said he did not discuss the strike with Tillerson. Tillerson said he did not discuss the strike with the State Department, because he did not know if there was an interview with Clinton about it. The State Department did not fire off a statement from Tillerson in response to the news. Tillerson, the US ambassador to the UN, said he did not discuss the strike with the State Department until he had been briefed on it.  The White House did not confirm the details of the strike. Tillerson said he did not discuss the strike with the State Department. He did not discuss the strike with the State Department, because he did not know if it would be considered credible by the United Nations Security Council. Tillerson said he had not yet reached out to the secretary of state about the strike. The White House issued a statement saying the United States remains committed to the UN Security Council resolution condemning Iran’s conduct in 2012.  The State Department said it did not discuss the strike with the State Department. Tillerson said he did not discuss the strike with the State Department. The State Department did not fire off a statement from Tillerson in response to the news. The State Department did not fire off a statement from Tillerson in response to the news. The State Department did not fire off a statement from Tillerson in response to the news. The State Department did not fire off a statement from Tillerson in response to the news. The State Department did not fire off a statement from Tillerson in response to the news. The State Department did not fire off a statement from Tillerson in response to the news. The State Department did not fire off a statement from Tillerson in response to the news. The State Department did not fire off a statement from Tillerson in response to the news. The State Department did not fire off a statement from Tillerson in response to the news. The State Department did not fire off a statement from Tillerson in response to the news. The State Department did not fire off a statement from Tillerson in response to the news. The State Department did not fire off a statement from Tillerson in response to the news. The State Department did not fire off a statement from Tillerson in response to the news. The State Department did not fire off a statement from Tillerson in response to the news. The State Department did not fire off a statement from Tillerson in response to the news. The State Department did not fire off a statement from Tillerson in response to the news. The State Department did not fire off a statement from Tillerson in response to the news. The State Department did not fire off a statement from Tillerson in response to the news. The State Department did not fire off a statement from Tillerson in response to the news. The State Department did not fire off a statement from Tillerson in response to the news\n"
          ],
          "name": "stdout"
        }
      ]
    },
    {
      "cell_type": "code",
      "metadata": {
        "id": "RQL8ztCL5pre",
        "colab_type": "code",
        "outputId": "320dfc50-d511-4f4f-a599-f1e4e5206c46",
        "colab": {
          "base_uri": "https://localhost:8080/",
          "height": 185
        }
      },
      "source": [
        "!zip -r model_cnn_150plus50epoch_744M checkpoint/run1/"
      ],
      "execution_count": 8,
      "outputs": [
        {
          "output_type": "stream",
          "text": [
            "  adding: checkpoint/run1/ (stored 0%)\n",
            "  adding: checkpoint/run1/model-200.index (deflated 66%)\n",
            "  adding: checkpoint/run1/counter (stored 0%)\n",
            "  adding: checkpoint/run1/model-200.data-00000-of-00001 (deflated 7%)\n",
            "  adding: checkpoint/run1/checkpoint (deflated 40%)\n",
            "  adding: checkpoint/run1/encoder.json (deflated 67%)\n",
            "  adding: checkpoint/run1/vocab.bpe (deflated 53%)\n",
            "  adding: checkpoint/run1/model-200.meta (deflated 92%)\n",
            "  adding: checkpoint/run1/hparams.json (deflated 27%)\n",
            "  adding: checkpoint/run1/events.out.tfevents.1579417991.fe048abb8c93 (deflated 11%)\n"
          ],
          "name": "stdout"
        }
      ]
    },
    {
      "cell_type": "code",
      "metadata": {
        "id": "Gtc3lgUT50i3",
        "colab_type": "code",
        "outputId": "9fb949bb-ceb1-4868-ed71-77e720e83390",
        "colab": {
          "base_uri": "https://localhost:8080/",
          "height": 34
        }
      },
      "source": [
        "# Install the PyDrive wrapper & import libraries.\n",
        "# This only needs to be done once in a notebook.\n",
        "!pip install -U -q PyDrive\n",
        "from pydrive.auth import GoogleAuth\n",
        "from pydrive.drive import GoogleDrive\n",
        "from google.colab import auth\n",
        "from oauth2client.client import GoogleCredentials\n",
        "\n",
        "# Authenticate and create the PyDrive client.\n",
        "# This only needs to be done once in a notebook.\n",
        "auth.authenticate_user()\n",
        "gauth = GoogleAuth()\n",
        "gauth.credentials = GoogleCredentials.get_application_default()\n",
        "drive = GoogleDrive(gauth)\n",
        "\n",
        "# Create & upload a file.\n",
        "uploaded = drive.CreateFile({'title': 'model_cnn_150plus50epoch_744M.zip'})\n",
        "uploaded.SetContentFile('model_cnn_150plus50epoch_744M.zip')\n",
        "uploaded.Upload()\n",
        "print('Uploaded file with ID {}'.format(uploaded.get('id')))"
      ],
      "execution_count": 9,
      "outputs": [
        {
          "output_type": "stream",
          "text": [
            "Uploaded file with ID 1JQ0CSJTKISK-8W2akTD9AODSWmwjvGfz\n"
          ],
          "name": "stdout"
        }
      ]
    },
    {
      "cell_type": "code",
      "metadata": {
        "id": "f4ZIN4jm0E78",
        "colab_type": "code",
        "outputId": "b4ac0422-6174-46eb-f4af-1b031078a245",
        "colab": {
          "base_uri": "https://localhost:8080/",
          "height": 185
        }
      },
      "source": [
        "!ls -l checkpoint/run1"
      ],
      "execution_count": 0,
      "outputs": [
        {
          "output_type": "stream",
          "text": [
            "total 491388\n",
            "-rw-r--r-- 1 root root        75 Jan 19 03:28 checkpoint\n",
            "-rw-r--r-- 1 root root         4 Jan 19 03:28 counter\n",
            "-rw-r--r-- 1 root root   1042301 Jan 19 03:23 encoder.json\n",
            "-rw-r--r-- 1 root root      4156 Jan 19 03:27 events.out.tfevents.1579404315.c8dd54c3a581\n",
            "-rw-r--r-- 1 root root        90 Jan 19 03:23 hparams.json\n",
            "-rw-r--r-- 1 root root 497759232 Jan 19 03:28 model-150.data-00000-of-00001\n",
            "-rw-r--r-- 1 root root      5215 Jan 19 03:28 model-150.index\n",
            "-rw-r--r-- 1 root root   3883812 Jan 19 03:28 model-150.meta\n",
            "-rw-r--r-- 1 root root    456318 Jan 19 03:23 vocab.bpe\n"
          ],
          "name": "stdout"
        }
      ]
    },
    {
      "cell_type": "code",
      "metadata": {
        "id": "locmstVV4jkt",
        "colab_type": "code",
        "colab": {}
      },
      "source": [
        "!rm -rf checkpoint"
      ],
      "execution_count": 0,
      "outputs": []
    },
    {
      "cell_type": "code",
      "metadata": {
        "id": "MoYWwvWVjaB0",
        "colab_type": "code",
        "colab": {
          "base_uri": "https://localhost:8080/",
          "height": 87
        },
        "outputId": "191724fe-01ec-4df0-92e5-83de0969a9a0"
      },
      "source": [
        "!head -3 cnn.csv"
      ],
      "execution_count": 3,
      "outputs": [
        {
          "output_type": "stream",
          "text": [
            "\"Istanbul attack: Dozens killed at nightclub\t<START>\tIstanbul  At least 39 people were killed and at least 69 wounded in an attack in a nightclub early Sunday as they were celebrating the new year, Turkey’s Interior Minister said. ”We are face to face with a terror attack,” Interior minister Suleyman Soylu told reporters.   of the dead have been identified, he said. Of those, 16 were foreign nationals and five were Turkish. US officials also called it a terrorist attack, making it the first of 2017.  Latest developments, The death toll from the Reina nightclub shooting has risen to 39The number of injured is at 69 ”Four of them are in critical condition    one very critical,” says Interior MinisterAt least one gunman still on the run    it is unclear how many attackers were presentNo claim of responsibility has yet been madeUS, Turkish officials say incident is a terrorist attack, Soylu also said that ”the efforts to locate the terrorist are ongoing. Security forces have begun the necessary operations. God willing soon (the attacker) will be apprehended.” Around 1:15 a. m. Sunday, the gunman shot a police officer who was guarding the front gate at the Reina nightclub, killing him, Istanbul Governor Vasip Sahin said.  ”He entered the club and attacked innocent people who were there to celebrate the new year. It was a cruel,   act,” the governor said.  There have been no claims of responsibility. The fate of the attacker    or attackers    was also unclear. ’Crazy people shooting everything’ Witnesses in the club said they heard a loud noise, then a security officer told everyone to get out. One victim said he didn’t know how many attackers there were, but he saw one person and hid.  ”I got shot in the (expletive) leg, man,” he told journalists in English as he was taken into an ambulance. ”These crazy people came in shooting everything.” A security camera captured the moment a gunman dressed in dark clothing dashed into the Reina nightclub as bullets ricocheted in the street.  The assailant, who has not yet been identified, opened fire inside the   nightclub in the busy Besiktas neighborhood, according to Turkish   news agency Anadolu.  Besiktas, on the European shore of the Bosporus, is known for its expensive,   class neighborhoods. The popular area had been under heavy police security for new year celebrations.  Ortakoy, where Reina is located, is a vibrant seaside neighborhood that caters to a wide range of people, from the   who party at clubs like Reina, to students who buy stuffed baked potatoes from vendors along the Bosporus.  Reina itself is one of the first clubs to open along the famous strait and remains a touchstone for Istanbul’s exclusive nightlife. It boasts a classic Istanbul view.  Several analysts said the attack looked more like a   attack.  ”In terms of the   aspects of this attack, it’s a youthful place, a bar that’s pretty   in particular to expats. It’s sort of the lively area of Istanbul, and especially on New Year’s Eve night    all of those have hallmarks of   if not directed attacks to maximize casualties and get a lot of news around it,” said Juliette Kayyem, CNN’s national security analyst.  Turkey’s recent tumult, Turkey has endured a recent wave of terrorist attacks, leaving many people wary.  ”This attack is, of course, a horrible development, but not shocking to many Turks who chose to stay inside this New Year’s Eve,” said Aykan Erdemir, former member of the Turkish Parliament. ”Turkey is known to host these big parties to celebrate New Year’s, but this year most citizens were wary of Islamist attacks so they chose to celebrate it at home with their friends.”  He said the attack seemed similar to what happened at the Bataclan, a Paris concert hall that was attacked by gunmen in 2015.  ”This is an attack on the Western lifestyle. This is an attack on Turkey’s secular, urban way of living. And this will simply fuel the ongoing cultural clashes, the ongoing polarization in Turkey,” Erdemir said.  The United States condemned the attack.  ”That such an atrocity could be perpetrated upon innocent revelers, many of whom were celebrating New Year’s Eve, underscores the savagery of the attackers,” National Security Council spokesman Ned Price said in a statement.  The US State Department said the attacks like this one on its NATO ally ”only reinforce our strong determination to work with the government of Turkey to counter the scourge of terrorism.”  The US Embassy in Turkey warned citizens to avoid the area where the attack occurred.  A violent year, Turkey faces numerous battles across different fronts. Not only has the Syrian conflict and refugee crisis spilled over into Turkey, but Turkey is also battling ISIS and Kurdish militants. Both have staged attacks in Turkey, which is still reeling from a bloody and failed military coup in July. ISIS is suspected in a June attack at Istanbul’s Ataturk Airport that left 44 people dead and an explosion at an August wedding, not far from the border with Syria, that killed at least 54 people. Meanwhile, Turkish security forces clash on an almost daily basis with Kurdistan Workers Party (PKK) militants, mostly in predominantly Kurdish parts of southeastern Turkey. A pair of bombings in Istanbul killed 44 people and wounded 155 others December 10 in an attack by a breakaway group of the PKK. The two explosions occurred after a heavily attended soccer game at Besiktas Vodafone Arena. On December 17, a car bomb exploded near a public bus, killing 13 soldiers in the central province of Kayseri. Three days later, a gunman assassinated Russia’s ambassador to Turkey at an Ankara art gallery. \"\n",
            "\"Alabama, Clemson back in national title game\t<START>\tAtlanta  This season’s College Football Playoff centers on one simple question: Can anyone stop Alabama? Because if it’s not clear by now, it should be: The national championship is the Crimson Tide’s to lose. No. 1 Alabama is back in the national championship game for the second year in a row, winning the Peach Bowl semifinal   against No. 4 Washington at the Georgia Dome in Atlanta. The Crimson Tide’s next opponent is a familiar one. No. 2 Clemson, who lost to Alabama   in the title game last season, pummeled No. 3 Ohio State   in the Fiesta Bowl semifinal at University of Phoenix Stadium in Glendale, Arizona to set up a national championship rematch. Alabama ( ) has won four of the past seven titles and is favored again. On Saturday, Alabama’s defense reinforced that it’s the nation’s best, stuffing the Huskies’   offense and scoring a defensive touchdown off an interception. ”I think our defense did a really good job against their explosive, big play receivers and offense that they have, and I’m just really pleased with the way we played together as a team,” Alabama head coach Nick Saban said. Washington, in the College Football Playoff for the first time, ends its season at  . Clemson ( ) meanwhile, asserted its will against Ohio State ( ). Quarterback Deshaun Watson, a   Heisman Trophy finalist who finished second in the voting this season, accounted for three of the Tigers’ touchdowns. Clemson hasn’t won a national championship since the 1981 season. ”What a night,” Clemson head coach Dabo Swinney said. ”What a journey. I just can’t tell you how proud I am of our team, our staff. Just incredible resolve, relentless pursuit to get back here and to try to find a way to win. Just awesome, man.” Alabama defense the greatest ever? Alabama’s dominance this season starts with defense, and the Crimson Tide boast the nation’s best, coming into the Peach Bowl leading the country in total defense, rushing defense, scoring defense and defensive touchdowns. In fact, the Tide’s defense has scored almost as many touchdowns this season (11) as it has allowed (15). One of those defensive scores came Saturday, when Alabama senior linebacker Ryan Anderson picked off Washington sophomore quarterback Jake Browning and took it back 26 yards for the touchdown. That made it a   Crimson Tide lead with 1:13 left in the second quarter. Anderson was named Peach Bowl defensive MVP. Additionally, a forced fumble late in the first quarter by Alabama junior defensive back Anthony Averett led to a   field goal for senior kicker Adam Griffith. The    Huskies entered the Peach Bowl fourth in the nation in scoring offense with 44. 5 points per game. But aside from a   touchdown pass from Browning to junior wide receiver Dante Pettis with 8:01 left in the first quarter, which gave the Huskies at   lead, Washington couldn’t muster much. Following that score, Washington didn’t take a snap in Alabama territory until there was 1:46 left in the game. The Huskies finished with a   194 total yards. ”It was disappointing we didn’t move the ball better,” Washington head coach Chris Petersen said. ”We’ve studied every snap that they’ve had this year, and the tape doesn’t lie when you watch that much tape. I mean, that’s as good a defense as there is out there in college football, and they played like it.” It was a   lead. Alabama answered Washington’s score on the following drive with an   touchdown rush from sophomore running back Bo Scarbrough with 5:01 left in the opening period. Scarbrough also scored on a   run with 11:56 left in the fourth quarter, putting the game firmly out of reach. It was a career day for Scarbrough. He finished with 180 yards    an Alabama bowl record    and two touchdowns. He was named offensive MVP. ”You guys know me,” Saban said. ”Whoever is hot, that’s who’s going to get the ball. And he’s been hot lately, and he’s going to get the ball.” Alabama, which has been ranked No. 1 since the beginning of the season, is making the case for being the greatest team of all time, and now it needs to win just one more game to cap off a perfect season. Since September 2015, Alabama has won 26 consecutive games. It also has won the past three Southeastern Conference championships. Watson stars in Clemson blowout, In big games, Watson has a history of showing up. Saturday was no exception. Clemson’s star junior quarterback was    passing for 259 yards and one touchdown. He also rushed for 57 yards and two scores. With his performance, Watson was named the Fiesta Bowl offensive MVP. It’s the second consecutive year he has earned that honor in a College Football Playoff semifinal, also doing so in the Tigers’ Orange Bowl win against Oklahoma in 2015. ”I just try to play my best and win games,” Watson said. The Buckeyes, on the other hand, were dreadful. Junior quarterback J. T. Barrett threw for just 127 yards and was intercepted twice. Senior kicker Tyler Durbin missed two field goals. It was the first time Ohio State had been shut out since 1993, and it was the first time in Urban Meyer’s head coaching career that he has been shut out. ”Ohio State is not used to this,” Meyer said. ”I’m not used to this, and we will not get used to this. That’s not going to happen again. So we’ll get things worked out.”\"\n",
            "\"New year celebrations ring in 2017\t<START>\t  Revelers on the United States’ west coast cheered the advent of the new year and said good riddance to 2016. Celebrants in Los Angeles, San Francisco and Seattle    eagerly turning the page on a year roiled by a bitterly partisan election    caroused, sang, hugged, kissed and danced to standards like ”Auld Lang Syne” as they welcomed the Happy New Year. Tens of thousands of people packed LA’s Grand Park and Music Center to welcome 2017 amid increased security after a deadly attack in Turkey early New Year’s Day. There were more than 600   officers and security personnel assigned to Grand Park.  A perimeter was set up around the park with checkpoints at the entrances, but the Los Angeles Police Department said there were no credible security threats to the greater LA area. San Francisco was also treated to a spectacular fireworks show and a   security presence.   Plainclothes and uniformed police patrolled the Embarcadero for the annual event. Seattle’s iconic Space Needle played host to the city’s revelers, who were treated to the largest New Year’s fireworks show ever produced at the venue.   New York, In New York’s Times Square,   cheered the new year and shouted in jubilation as the iconic ball dropped. The New York Police Department remained vigilant and focused on protecting the gleeful crowds ringing in the New Year. ”We are closely following the developments regarding the night club shooting in #Istanbul #Turkey,” the NYPD Counterterrorism Bureau tweeted. Ben Von Klemperer took in the heightened security as the gates opened more than 12 hours before the big celebration. Mother Nature cooperated    somewhat    with temperatures climbing from the high 30s to the low 40s during the afternoon hours.   Many bundled up on   streets to claim their positions hours before Gotham’s traditional midnight ball drop.    Donald Trump delivered a    message to his fellow Americans    via Twitter, of course: ”Happy New Year to all, including to my many enemies and those who have fought me and lost so badly they just don’t know what to do. Love!” he said. Across the Atlantic, European cities including Berlin, London, Paris and Rome stepped up security ahead of their celebrations, following   attacks in 2016 on crowds in Berlin and Nice, France. London, In London, tickets sold out for a dramatic pyrotechnics display above the River Thames, complete with a concert by singer Robbie Williams. The New Year’s Eve revelry was choreographed according to the world’s more than 20 time zones    some separated by one hour, others by 30 or 45 minutes.   Brazil, A spectacular firework show highlighted the night for revelers on the famous Copacabana Beach.  France, Thousands of people in Paris flooded the   to watch the fireworks at the Arc de Triomphe. Syria, In   Syria, where skirmishes and airstrikes threaten a fragile ceasefire, 2017 arrived with the hope of peace.   Russia, Fireworks soared above the Kremlin, bathing the Moscow River with splashes of red and yellow light.  United Arab Emirates, At midnight, light streaks erupted above and around the world’s tallest building, Burj Khalifa, in Dubai.    Bangladesh  In Dhaka, at 1 p. m. Eastern time, people marked the change in the calendar by lighting the traditional fanush, or sky lanterns fashioned from paper and bamboo. Thailand  Revelers in Bangkok, about an hour earlier, counted down the seconds to 2017 amid cascading balloons and confetti.  Southeastern China, At midnight in Hong Kong, red streaks of light crisscrossed the night sky.  Philippines, At Manila’s Ocean Park, Kevin Gener photographed shafts of crimson light rising over the marine theme park.    Riley Nolan marveled at the illuminated outlines of the Philippines’ financial hub in the city of Makati.   Japan, Asimina Tzatha stood with revelers in Tokyo, cheerily dispatching the final 12 seconds of 2016.   South Korea, In Seoul, Boram Brian Kim took video of fireworks over the bustling streets of the South Korean capital. His favorite memory of 2016, he said,  was ”traveling in Europe and southeast Asia and getting to meet a lot of new people.”  Australia  The palm trees and glass   of Brisbane glowed under bursts of light.    In Melbourne, Instagram user Nathanael Campbell captured the magnificent, cacophonous crescendo marking the end of 2016. Still, despite the impressive display, he said: ”I think winning my league bowling award in cricket was my highlight for 2016.”    And more spectacular fireworks rocketed from the iconic Sydney Harbour Bridge and from barges on the water beneath. The evening’s pyrotechnics, a family display at 9 p. m. and a midnight show, included tributes to Prince    in the form of a shower of purple rain    and David Bowie, both of whom died in 2016.  New Zealand, Among the first to celebrate was New Zealand, where flashes of light cut through the skies over Auckland’s Sky Tower. For those who can’t wait to see what 2017 holds, a dozen CNN commentators peered into a crystal ball to come up with their best guesses for the new year. READ: Entertainment in 2016    a look back, READ: 17 things we’re looking forward to in 2017\"\n"
          ],
          "name": "stdout"
        }
      ]
    },
    {
      "cell_type": "code",
      "metadata": {
        "id": "cKyHqS7QmJ8j",
        "colab_type": "code",
        "colab": {}
      },
      "source": [
        "reader = csv.reader(open('cnn.csv', 'r'))\n",
        "for row in reader:\n",
        "  if len(row) > 1:\n",
        "    print(len(row), row)"
      ],
      "execution_count": 0,
      "outputs": []
    }
  ]
}